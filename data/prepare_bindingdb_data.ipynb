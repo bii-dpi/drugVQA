{
 "cells": [
  {
   "cell_type": "code",
   "execution_count": 1,
   "id": "acf68c98",
   "metadata": {
    "scrolled": true
   },
   "outputs": [
    {
     "data": {
      "application/javascript": [
       "\n",
       "            setTimeout(function() {\n",
       "                var nbb_cell_id = 1;\n",
       "                var nbb_unformatted_code = \"%load_ext nb_black\";\n",
       "                var nbb_formatted_code = \"%load_ext nb_black\";\n",
       "                var nbb_cells = Jupyter.notebook.get_cells();\n",
       "                for (var i = 0; i < nbb_cells.length; ++i) {\n",
       "                    if (nbb_cells[i].input_prompt_number == nbb_cell_id) {\n",
       "                        if (nbb_cells[i].get_text() == nbb_unformatted_code) {\n",
       "                             nbb_cells[i].set_text(nbb_formatted_code);\n",
       "                        }\n",
       "                        break;\n",
       "                    }\n",
       "                }\n",
       "            }, 500);\n",
       "            "
      ],
      "text/plain": [
       "<IPython.core.display.Javascript object>"
      ]
     },
     "metadata": {},
     "output_type": "display_data"
    }
   ],
   "source": [
    "%load_ext nb_black"
   ]
  },
  {
   "cell_type": "code",
   "execution_count": 2,
   "id": "6d63a2b6",
   "metadata": {},
   "outputs": [
    {
     "data": {
      "application/javascript": [
       "\n",
       "            setTimeout(function() {\n",
       "                var nbb_cell_id = 2;\n",
       "                var nbb_unformatted_code = \"import numpy as np\\nimport pandas as pd\\n\\nfrom os import listdir\\nfrom urllib.request import urlopen\\nfrom progressbar import progressbar\\n\\nnp.random.seed(12345)\";\n",
       "                var nbb_formatted_code = \"import numpy as np\\nimport pandas as pd\\n\\nfrom os import listdir\\nfrom urllib.request import urlopen\\nfrom progressbar import progressbar\\n\\nnp.random.seed(12345)\";\n",
       "                var nbb_cells = Jupyter.notebook.get_cells();\n",
       "                for (var i = 0; i < nbb_cells.length; ++i) {\n",
       "                    if (nbb_cells[i].input_prompt_number == nbb_cell_id) {\n",
       "                        if (nbb_cells[i].get_text() == nbb_unformatted_code) {\n",
       "                             nbb_cells[i].set_text(nbb_formatted_code);\n",
       "                        }\n",
       "                        break;\n",
       "                    }\n",
       "                }\n",
       "            }, 500);\n",
       "            "
      ],
      "text/plain": [
       "<IPython.core.display.Javascript object>"
      ]
     },
     "metadata": {},
     "output_type": "display_data"
    }
   ],
   "source": [
    "import numpy as np\n",
    "import pandas as pd\n",
    "\n",
    "from os import listdir\n",
    "from urllib.request import urlopen\n",
    "from progressbar import progressbar\n",
    "\n",
    "np.random.seed(12345)"
   ]
  },
  {
   "cell_type": "markdown",
   "id": "e77b7658",
   "metadata": {},
   "source": [
    "### Load data"
   ]
  },
  {
   "cell_type": "code",
   "execution_count": 3,
   "id": "f958b8ec",
   "metadata": {},
   "outputs": [
    {
     "data": {
      "application/javascript": [
       "\n",
       "            setTimeout(function() {\n",
       "                var nbb_cell_id = 3;\n",
       "                var nbb_unformatted_code = \"data = pd.read_csv(\\\"bindingdb_ligands.csv\\\", na_values=\\\"NULL\\\")\";\n",
       "                var nbb_formatted_code = \"data = pd.read_csv(\\\"bindingdb_ligands.csv\\\", na_values=\\\"NULL\\\")\";\n",
       "                var nbb_cells = Jupyter.notebook.get_cells();\n",
       "                for (var i = 0; i < nbb_cells.length; ++i) {\n",
       "                    if (nbb_cells[i].input_prompt_number == nbb_cell_id) {\n",
       "                        if (nbb_cells[i].get_text() == nbb_unformatted_code) {\n",
       "                             nbb_cells[i].set_text(nbb_formatted_code);\n",
       "                        }\n",
       "                        break;\n",
       "                    }\n",
       "                }\n",
       "            }, 500);\n",
       "            "
      ],
      "text/plain": [
       "<IPython.core.display.Javascript object>"
      ]
     },
     "metadata": {},
     "output_type": "display_data"
    }
   ],
   "source": [
    "data = pd.read_csv(\"bindingdb_ligands.csv\", na_values=\"NULL\")"
   ]
  },
  {
   "cell_type": "code",
   "execution_count": 4,
   "id": "68e3f8c3",
   "metadata": {},
   "outputs": [
    {
     "data": {
      "application/javascript": [
       "\n",
       "            setTimeout(function() {\n",
       "                var nbb_cell_id = 4;\n",
       "                var nbb_unformatted_code = \"data = data[~pd.isnull(data.protein_sequence).to_numpy()]\";\n",
       "                var nbb_formatted_code = \"data = data[~pd.isnull(data.protein_sequence).to_numpy()]\";\n",
       "                var nbb_cells = Jupyter.notebook.get_cells();\n",
       "                for (var i = 0; i < nbb_cells.length; ++i) {\n",
       "                    if (nbb_cells[i].input_prompt_number == nbb_cell_id) {\n",
       "                        if (nbb_cells[i].get_text() == nbb_unformatted_code) {\n",
       "                             nbb_cells[i].set_text(nbb_formatted_code);\n",
       "                        }\n",
       "                        break;\n",
       "                    }\n",
       "                }\n",
       "            }, 500);\n",
       "            "
      ],
      "text/plain": [
       "<IPython.core.display.Javascript object>"
      ]
     },
     "metadata": {},
     "output_type": "display_data"
    }
   ],
   "source": [
    "data = data[~pd.isnull(data.protein_sequence).to_numpy()]"
   ]
  },
  {
   "cell_type": "code",
   "execution_count": 5,
   "id": "be9e6a81",
   "metadata": {},
   "outputs": [
    {
     "data": {
      "text/plain": [
       "0"
      ]
     },
     "execution_count": 5,
     "metadata": {},
     "output_type": "execute_result"
    },
    {
     "data": {
      "application/javascript": [
       "\n",
       "            setTimeout(function() {\n",
       "                var nbb_cell_id = 5;\n",
       "                var nbb_unformatted_code = \"np.sum(pd.isnull(data.protein_sequence))\";\n",
       "                var nbb_formatted_code = \"np.sum(pd.isnull(data.protein_sequence))\";\n",
       "                var nbb_cells = Jupyter.notebook.get_cells();\n",
       "                for (var i = 0; i < nbb_cells.length; ++i) {\n",
       "                    if (nbb_cells[i].input_prompt_number == nbb_cell_id) {\n",
       "                        if (nbb_cells[i].get_text() == nbb_unformatted_code) {\n",
       "                             nbb_cells[i].set_text(nbb_formatted_code);\n",
       "                        }\n",
       "                        break;\n",
       "                    }\n",
       "                }\n",
       "            }, 500);\n",
       "            "
      ],
      "text/plain": [
       "<IPython.core.display.Javascript object>"
      ]
     },
     "metadata": {},
     "output_type": "display_data"
    }
   ],
   "source": [
    "np.sum(pd.isnull(data.protein_sequence))"
   ]
  },
  {
   "cell_type": "markdown",
   "id": "3f5fc3e2",
   "metadata": {},
   "source": [
    "### Process data"
   ]
  },
  {
   "cell_type": "code",
   "execution_count": 6,
   "id": "0967fdb7",
   "metadata": {},
   "outputs": [
    {
     "data": {
      "text/plain": [
       "Index(['ligand_SMILES', 'ki', 'ic50', 'kd', 'ec50', 'protein_sequence',\n",
       "       'BindingDB Reactant_set_id', 'BindingDB MonomerID',\n",
       "       'BindingDB Ligand Name',\n",
       "       'Target Name Assigned by Curator or DataSource', 'ZINC ID of Ligand'],\n",
       "      dtype='object')"
      ]
     },
     "execution_count": 6,
     "metadata": {},
     "output_type": "execute_result"
    },
    {
     "data": {
      "application/javascript": [
       "\n",
       "            setTimeout(function() {\n",
       "                var nbb_cell_id = 6;\n",
       "                var nbb_unformatted_code = \"data.columns\";\n",
       "                var nbb_formatted_code = \"data.columns\";\n",
       "                var nbb_cells = Jupyter.notebook.get_cells();\n",
       "                for (var i = 0; i < nbb_cells.length; ++i) {\n",
       "                    if (nbb_cells[i].input_prompt_number == nbb_cell_id) {\n",
       "                        if (nbb_cells[i].get_text() == nbb_unformatted_code) {\n",
       "                             nbb_cells[i].set_text(nbb_formatted_code);\n",
       "                        }\n",
       "                        break;\n",
       "                    }\n",
       "                }\n",
       "            }, 500);\n",
       "            "
      ],
      "text/plain": [
       "<IPython.core.display.Javascript object>"
      ]
     },
     "metadata": {},
     "output_type": "display_data"
    }
   ],
   "source": [
    "data.columns"
   ]
  },
  {
   "cell_type": "code",
   "execution_count": 7,
   "id": "3aeb5d9a",
   "metadata": {},
   "outputs": [
    {
     "data": {
      "application/javascript": [
       "\n",
       "            setTimeout(function() {\n",
       "                var nbb_cell_id = 7;\n",
       "                var nbb_unformatted_code = \"data_list = []\";\n",
       "                var nbb_formatted_code = \"data_list = []\";\n",
       "                var nbb_cells = Jupyter.notebook.get_cells();\n",
       "                for (var i = 0; i < nbb_cells.length; ++i) {\n",
       "                    if (nbb_cells[i].input_prompt_number == nbb_cell_id) {\n",
       "                        if (nbb_cells[i].get_text() == nbb_unformatted_code) {\n",
       "                             nbb_cells[i].set_text(nbb_formatted_code);\n",
       "                        }\n",
       "                        break;\n",
       "                    }\n",
       "                }\n",
       "            }, 500);\n",
       "            "
      ],
      "text/plain": [
       "<IPython.core.display.Javascript object>"
      ]
     },
     "metadata": {},
     "output_type": "display_data"
    }
   ],
   "source": [
    "data_list = []"
   ]
  },
  {
   "cell_type": "code",
   "execution_count": 8,
   "id": "fb98cf96",
   "metadata": {},
   "outputs": [
    {
     "data": {
      "application/javascript": [
       "\n",
       "            setTimeout(function() {\n",
       "                var nbb_cell_id = 8;\n",
       "                var nbb_unformatted_code = \"def get_interaction(i):\\n    for affinity in [\\\"ki\\\", \\\"ic50\\\", \\\"kd\\\", \\\"ec50\\\"]:\\n        if not pd.isnull(data[affinity].iloc[i]):\\n            try:\\n                if data[affinity].iloc[i].startswith(\\\"<\\\"):\\n                    return 1\\n                elif data[affinity].iloc[i].startswith(\\\">\\\"):\\n                    return 0\\n            except:\\n                pass\\n    return str(int(float(data[affinity].iloc[i]) <= 10))\";\n",
       "                var nbb_formatted_code = \"def get_interaction(i):\\n    for affinity in [\\\"ki\\\", \\\"ic50\\\", \\\"kd\\\", \\\"ec50\\\"]:\\n        if not pd.isnull(data[affinity].iloc[i]):\\n            try:\\n                if data[affinity].iloc[i].startswith(\\\"<\\\"):\\n                    return 1\\n                elif data[affinity].iloc[i].startswith(\\\">\\\"):\\n                    return 0\\n            except:\\n                pass\\n    return str(int(float(data[affinity].iloc[i]) <= 10))\";\n",
       "                var nbb_cells = Jupyter.notebook.get_cells();\n",
       "                for (var i = 0; i < nbb_cells.length; ++i) {\n",
       "                    if (nbb_cells[i].input_prompt_number == nbb_cell_id) {\n",
       "                        if (nbb_cells[i].get_text() == nbb_unformatted_code) {\n",
       "                             nbb_cells[i].set_text(nbb_formatted_code);\n",
       "                        }\n",
       "                        break;\n",
       "                    }\n",
       "                }\n",
       "            }, 500);\n",
       "            "
      ],
      "text/plain": [
       "<IPython.core.display.Javascript object>"
      ]
     },
     "metadata": {},
     "output_type": "display_data"
    }
   ],
   "source": [
    "def get_interaction(i):\n",
    "    for affinity in [\"ki\", \"ic50\", \"kd\", \"ec50\"]:\n",
    "        if not pd.isnull(data[affinity].iloc[i]):\n",
    "            try:\n",
    "                if data[affinity].iloc[i].startswith(\"<\"):\n",
    "                    return 1\n",
    "                elif data[affinity].iloc[i].startswith(\">\"):\n",
    "                    return 0\n",
    "            except:\n",
    "                pass\n",
    "    return str(int(float(data[affinity].iloc[i]) <= 10))"
   ]
  },
  {
   "cell_type": "code",
   "execution_count": 9,
   "id": "b370f645",
   "metadata": {},
   "outputs": [
    {
     "data": {
      "application/javascript": [
       "\n",
       "            setTimeout(function() {\n",
       "                var nbb_cell_id = 9;\n",
       "                var nbb_unformatted_code = \"for i in range(len(data)):\\n    data_list.append(\\n        [\\n            data[\\\"ligand_SMILES\\\"].iloc[i],\\n            data[\\\"protein_sequence\\\"].iloc[i],\\n            get_interaction(i),\\n        ]\\n    )\";\n",
       "                var nbb_formatted_code = \"for i in range(len(data)):\\n    data_list.append(\\n        [\\n            data[\\\"ligand_SMILES\\\"].iloc[i],\\n            data[\\\"protein_sequence\\\"].iloc[i],\\n            get_interaction(i),\\n        ]\\n    )\";\n",
       "                var nbb_cells = Jupyter.notebook.get_cells();\n",
       "                for (var i = 0; i < nbb_cells.length; ++i) {\n",
       "                    if (nbb_cells[i].input_prompt_number == nbb_cell_id) {\n",
       "                        if (nbb_cells[i].get_text() == nbb_unformatted_code) {\n",
       "                             nbb_cells[i].set_text(nbb_formatted_code);\n",
       "                        }\n",
       "                        break;\n",
       "                    }\n",
       "                }\n",
       "            }, 500);\n",
       "            "
      ],
      "text/plain": [
       "<IPython.core.display.Javascript object>"
      ]
     },
     "metadata": {},
     "output_type": "display_data"
    }
   ],
   "source": [
    "for i in range(len(data)):\n",
    "    data_list.append(\n",
    "        [\n",
    "            data[\"ligand_SMILES\"].iloc[i],\n",
    "            data[\"protein_sequence\"].iloc[i],\n",
    "            get_interaction(i),\n",
    "        ]\n",
    "    )"
   ]
  },
  {
   "cell_type": "code",
   "execution_count": 10,
   "id": "195e3a75",
   "metadata": {
    "scrolled": true
   },
   "outputs": [
    {
     "data": {
      "text/plain": [
       "83577"
      ]
     },
     "execution_count": 10,
     "metadata": {},
     "output_type": "execute_result"
    },
    {
     "data": {
      "application/javascript": [
       "\n",
       "            setTimeout(function() {\n",
       "                var nbb_cell_id = 10;\n",
       "                var nbb_unformatted_code = \"len(data_list)\";\n",
       "                var nbb_formatted_code = \"len(data_list)\";\n",
       "                var nbb_cells = Jupyter.notebook.get_cells();\n",
       "                for (var i = 0; i < nbb_cells.length; ++i) {\n",
       "                    if (nbb_cells[i].input_prompt_number == nbb_cell_id) {\n",
       "                        if (nbb_cells[i].get_text() == nbb_unformatted_code) {\n",
       "                             nbb_cells[i].set_text(nbb_formatted_code);\n",
       "                        }\n",
       "                        break;\n",
       "                    }\n",
       "                }\n",
       "            }, 500);\n",
       "            "
      ],
      "text/plain": [
       "<IPython.core.display.Javascript object>"
      ]
     },
     "metadata": {},
     "output_type": "display_data"
    }
   ],
   "source": [
    "len(data_list)"
   ]
  },
  {
   "cell_type": "markdown",
   "id": "fb60fee4",
   "metadata": {},
   "source": [
    "### Filter out seen proteins"
   ]
  },
  {
   "cell_type": "code",
   "execution_count": 11,
   "id": "0fd9841c",
   "metadata": {},
   "outputs": [
    {
     "data": {
      "application/javascript": [
       "\n",
       "            setTimeout(function() {\n",
       "                var nbb_cell_id = 11;\n",
       "                var nbb_unformatted_code = \"DUDE_fnames = listdir(\\\"DUDE/contact_map/\\\")\\n\\nDUDE_sequences = []\\nfor fname in DUDE_fnames:\\n    with open(f\\\"DUDE/contact_map/{fname}\\\", \\\"r\\\") as f:\\n        DUDE_sequences.append(f.readlines()[1].strip(\\\"\\\\n\\\"))\";\n",
       "                var nbb_formatted_code = \"DUDE_fnames = listdir(\\\"DUDE/contact_map/\\\")\\n\\nDUDE_sequences = []\\nfor fname in DUDE_fnames:\\n    with open(f\\\"DUDE/contact_map/{fname}\\\", \\\"r\\\") as f:\\n        DUDE_sequences.append(f.readlines()[1].strip(\\\"\\\\n\\\"))\";\n",
       "                var nbb_cells = Jupyter.notebook.get_cells();\n",
       "                for (var i = 0; i < nbb_cells.length; ++i) {\n",
       "                    if (nbb_cells[i].input_prompt_number == nbb_cell_id) {\n",
       "                        if (nbb_cells[i].get_text() == nbb_unformatted_code) {\n",
       "                             nbb_cells[i].set_text(nbb_formatted_code);\n",
       "                        }\n",
       "                        break;\n",
       "                    }\n",
       "                }\n",
       "            }, 500);\n",
       "            "
      ],
      "text/plain": [
       "<IPython.core.display.Javascript object>"
      ]
     },
     "metadata": {},
     "output_type": "display_data"
    }
   ],
   "source": [
    "DUDE_fnames = listdir(\"DUDE/contact_map/\")\n",
    "\n",
    "DUDE_sequences = []\n",
    "for fname in DUDE_fnames:\n",
    "    with open(f\"DUDE/contact_map/{fname}\", \"r\") as f:\n",
    "        DUDE_sequences.append(f.readlines()[1].strip(\"\\n\"))"
   ]
  },
  {
   "cell_type": "code",
   "execution_count": 12,
   "id": "eb7e665c",
   "metadata": {},
   "outputs": [
    {
     "data": {
      "application/javascript": [
       "\n",
       "            setTimeout(function() {\n",
       "                var nbb_cell_id = 12;\n",
       "                var nbb_unformatted_code = \"data_list = [example for example in data_list if example[1] not in DUDE_sequences]\";\n",
       "                var nbb_formatted_code = \"data_list = [example for example in data_list if example[1] not in DUDE_sequences]\";\n",
       "                var nbb_cells = Jupyter.notebook.get_cells();\n",
       "                for (var i = 0; i < nbb_cells.length; ++i) {\n",
       "                    if (nbb_cells[i].input_prompt_number == nbb_cell_id) {\n",
       "                        if (nbb_cells[i].get_text() == nbb_unformatted_code) {\n",
       "                             nbb_cells[i].set_text(nbb_formatted_code);\n",
       "                        }\n",
       "                        break;\n",
       "                    }\n",
       "                }\n",
       "            }, 500);\n",
       "            "
      ],
      "text/plain": [
       "<IPython.core.display.Javascript object>"
      ]
     },
     "metadata": {},
     "output_type": "display_data"
    }
   ],
   "source": [
    "data_list = [example for example in data_list if example[1] not in DUDE_sequences]"
   ]
  },
  {
   "cell_type": "code",
   "execution_count": 13,
   "id": "f20bc0a8",
   "metadata": {
    "scrolled": true
   },
   "outputs": [
    {
     "data": {
      "text/plain": [
       "83577"
      ]
     },
     "execution_count": 13,
     "metadata": {},
     "output_type": "execute_result"
    },
    {
     "data": {
      "application/javascript": [
       "\n",
       "            setTimeout(function() {\n",
       "                var nbb_cell_id = 13;\n",
       "                var nbb_unformatted_code = \"len(data_list)\";\n",
       "                var nbb_formatted_code = \"len(data_list)\";\n",
       "                var nbb_cells = Jupyter.notebook.get_cells();\n",
       "                for (var i = 0; i < nbb_cells.length; ++i) {\n",
       "                    if (nbb_cells[i].input_prompt_number == nbb_cell_id) {\n",
       "                        if (nbb_cells[i].get_text() == nbb_unformatted_code) {\n",
       "                             nbb_cells[i].set_text(nbb_formatted_code);\n",
       "                        }\n",
       "                        break;\n",
       "                    }\n",
       "                }\n",
       "            }, 500);\n",
       "            "
      ],
      "text/plain": [
       "<IPython.core.display.Javascript object>"
      ]
     },
     "metadata": {},
     "output_type": "display_data"
    }
   ],
   "source": [
    "len(data_list)"
   ]
  },
  {
   "cell_type": "code",
   "execution_count": 14,
   "id": "949aae61",
   "metadata": {},
   "outputs": [
    {
     "data": {
      "application/javascript": [
       "\n",
       "            setTimeout(function() {\n",
       "                var nbb_cell_id = 14;\n",
       "                var nbb_unformatted_code = \"def get_fasta(target):\\n    response = urlopen(f\\\"https://www.rcsb.org/fasta/entry/{target.upper()}/display\\\")\\n    return response.read().decode(\\\"utf-8\\\").strip(\\\"\\\\n\\\")\\n\\n\\nDUDE_fasta = [\\n    get_fasta(target)\\n    for target in pd.read_csv(\\\"DUDE/data_pre/dud-e_proteins.csv\\\")[\\\"target_pdb\\\"].tolist()\\n]\";\n",
       "                var nbb_formatted_code = \"def get_fasta(target):\\n    response = urlopen(f\\\"https://www.rcsb.org/fasta/entry/{target.upper()}/display\\\")\\n    return response.read().decode(\\\"utf-8\\\").strip(\\\"\\\\n\\\")\\n\\n\\nDUDE_fasta = [\\n    get_fasta(target)\\n    for target in pd.read_csv(\\\"DUDE/data_pre/dud-e_proteins.csv\\\")[\\\"target_pdb\\\"].tolist()\\n]\";\n",
       "                var nbb_cells = Jupyter.notebook.get_cells();\n",
       "                for (var i = 0; i < nbb_cells.length; ++i) {\n",
       "                    if (nbb_cells[i].input_prompt_number == nbb_cell_id) {\n",
       "                        if (nbb_cells[i].get_text() == nbb_unformatted_code) {\n",
       "                             nbb_cells[i].set_text(nbb_formatted_code);\n",
       "                        }\n",
       "                        break;\n",
       "                    }\n",
       "                }\n",
       "            }, 500);\n",
       "            "
      ],
      "text/plain": [
       "<IPython.core.display.Javascript object>"
      ]
     },
     "metadata": {},
     "output_type": "display_data"
    }
   ],
   "source": [
    "def get_fasta(target):\n",
    "    response = urlopen(f\"https://www.rcsb.org/fasta/entry/{target.upper()}/display\")\n",
    "    return response.read().decode(\"utf-8\").strip(\"\\n\")\n",
    "\n",
    "\n",
    "DUDE_fasta = [\n",
    "    get_fasta(target)\n",
    "    for target in pd.read_csv(\"DUDE/data_pre/dud-e_proteins.csv\")[\"target_pdb\"].tolist()\n",
    "]"
   ]
  },
  {
   "cell_type": "code",
   "execution_count": 15,
   "id": "f6564064",
   "metadata": {},
   "outputs": [
    {
     "data": {
      "application/javascript": [
       "\n",
       "            setTimeout(function() {\n",
       "                var nbb_cell_id = 15;\n",
       "                var nbb_unformatted_code = \"response = urlopen(f\\\"https://www.bindingdb.org/bind/BindingDBTargetSequences.fasta\\\")\\nbindingdb_fasta = response.read().decode(\\\"utf-8\\\").strip(\\\"\\\\n\\\").split(\\\"\\\\n\\\")\\n\\nbindingdb_fasta = bindingdb_fasta[:6000]\\n\\nwith open(\\\"proteins_list.txt\\\", \\\"w\\\") as f:\\n    f.write(\\\"\\\\n\\\".join(DUDE_fasta + bindingdb_fasta))\";\n",
       "                var nbb_formatted_code = \"response = urlopen(f\\\"https://www.bindingdb.org/bind/BindingDBTargetSequences.fasta\\\")\\nbindingdb_fasta = response.read().decode(\\\"utf-8\\\").strip(\\\"\\\\n\\\").split(\\\"\\\\n\\\")\\n\\nbindingdb_fasta = bindingdb_fasta[:6000]\\n\\nwith open(\\\"proteins_list.txt\\\", \\\"w\\\") as f:\\n    f.write(\\\"\\\\n\\\".join(DUDE_fasta + bindingdb_fasta))\";\n",
       "                var nbb_cells = Jupyter.notebook.get_cells();\n",
       "                for (var i = 0; i < nbb_cells.length; ++i) {\n",
       "                    if (nbb_cells[i].input_prompt_number == nbb_cell_id) {\n",
       "                        if (nbb_cells[i].get_text() == nbb_unformatted_code) {\n",
       "                             nbb_cells[i].set_text(nbb_formatted_code);\n",
       "                        }\n",
       "                        break;\n",
       "                    }\n",
       "                }\n",
       "            }, 500);\n",
       "            "
      ],
      "text/plain": [
       "<IPython.core.display.Javascript object>"
      ]
     },
     "metadata": {},
     "output_type": "display_data"
    }
   ],
   "source": [
    "response = urlopen(f\"https://www.bindingdb.org/bind/BindingDBTargetSequences.fasta\")\n",
    "bindingdb_fasta = response.read().decode(\"utf-8\").strip(\"\\n\").split(\"\\n\")\n",
    "\n",
    "bindingdb_fasta = bindingdb_fasta[:6000]\n",
    "\n",
    "with open(\"proteins_list.txt\", \"w\") as f:\n",
    "    f.write(\"\\n\".join(DUDE_fasta + bindingdb_fasta))"
   ]
  },
  {
   "cell_type": "markdown",
   "id": "d46d89f9",
   "metadata": {},
   "source": [
    "#### Write bindingdb examples"
   ]
  },
  {
   "cell_type": "code",
   "execution_count": 16,
   "id": "dfa214b2",
   "metadata": {},
   "outputs": [
    {
     "data": {
      "application/javascript": [
       "\n",
       "            setTimeout(function() {\n",
       "                var nbb_cell_id = 16;\n",
       "                var nbb_unformatted_code = \"text = []\\nfor i in range(len(data_list)):\\n    text.append(\\\" \\\".join(data_list[1]))\";\n",
       "                var nbb_formatted_code = \"text = []\\nfor i in range(len(data_list)):\\n    text.append(\\\" \\\".join(data_list[1]))\";\n",
       "                var nbb_cells = Jupyter.notebook.get_cells();\n",
       "                for (var i = 0; i < nbb_cells.length; ++i) {\n",
       "                    if (nbb_cells[i].input_prompt_number == nbb_cell_id) {\n",
       "                        if (nbb_cells[i].get_text() == nbb_unformatted_code) {\n",
       "                             nbb_cells[i].set_text(nbb_formatted_code);\n",
       "                        }\n",
       "                        break;\n",
       "                    }\n",
       "                }\n",
       "            }, 500);\n",
       "            "
      ],
      "text/plain": [
       "<IPython.core.display.Javascript object>"
      ]
     },
     "metadata": {},
     "output_type": "display_data"
    }
   ],
   "source": [
    "text = []\n",
    "for i in range(len(data_list)):\n",
    "    text.append(\" \".join(data_list[1]))"
   ]
  },
  {
   "cell_type": "code",
   "execution_count": 17,
   "id": "14a74bd3",
   "metadata": {},
   "outputs": [
    {
     "data": {
      "application/javascript": [
       "\n",
       "            setTimeout(function() {\n",
       "                var nbb_cell_id = 17;\n",
       "                var nbb_unformatted_code = \"with open(\\\"bindingdb_test_set\\\", \\\"w\\\") as f:\\n    f.writelines(text)\";\n",
       "                var nbb_formatted_code = \"with open(\\\"bindingdb_test_set\\\", \\\"w\\\") as f:\\n    f.writelines(text)\";\n",
       "                var nbb_cells = Jupyter.notebook.get_cells();\n",
       "                for (var i = 0; i < nbb_cells.length; ++i) {\n",
       "                    if (nbb_cells[i].input_prompt_number == nbb_cell_id) {\n",
       "                        if (nbb_cells[i].get_text() == nbb_unformatted_code) {\n",
       "                             nbb_cells[i].set_text(nbb_formatted_code);\n",
       "                        }\n",
       "                        break;\n",
       "                    }\n",
       "                }\n",
       "            }, 500);\n",
       "            "
      ],
      "text/plain": [
       "<IPython.core.display.Javascript object>"
      ]
     },
     "metadata": {},
     "output_type": "display_data"
    }
   ],
   "source": [
    "with open(\"bindingdb_test_set\", \"w\") as f:\n",
    "    f.writelines(text)"
   ]
  }
 ],
 "metadata": {
  "kernelspec": {
   "display_name": "Python 3",
   "language": "python",
   "name": "python3"
  },
  "language_info": {
   "codemirror_mode": {
    "name": "ipython",
    "version": 3
   },
   "file_extension": ".py",
   "mimetype": "text/x-python",
   "name": "python",
   "nbconvert_exporter": "python",
   "pygments_lexer": "ipython3",
   "version": "3.6.13"
  }
 },
 "nbformat": 4,
 "nbformat_minor": 5
}
